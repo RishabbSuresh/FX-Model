{
 "cells": [
  {
   "cell_type": "markdown",
   "metadata": {},
   "source": [
    "<h1 align = \"center\">Deep Neural Networks, Gradient-Boosted Trees, Random Forests: Statistical Arbitrage on the S&P 500</h1>"
   ]
  },
  {
   "cell_type": "markdown",
   "metadata": {},
   "source": [
    "### Import Libraries"
   ]
  },
  {
   "cell_type": "code",
   "execution_count": 126,
   "metadata": {},
   "outputs": [],
   "source": [
    "import pandas as pd\n",
    "import numpy as np\n",
    "from datetime import datetime, date, time\n",
    "import math\n",
    "import matplotlib.pyplot as plt\n",
    "plt.rcParams[\"figure.figsize\"] = [15, 5]\n",
    "%matplotlib inline\n",
    "\n",
    "from keras.utils import to_categorical\n",
    "from keras.models import Sequential, Model\n",
    "from keras.layers import Input,Dense, Dropout, Activation\n",
    "from keras.initializers import RandomNormal, he_normal\n",
    "from keras.callbacks import EarlyStopping\n",
    "from keras.utils import plot_model\n",
    "from keras import regularizers\n",
    "\n",
    "from sklearn.metrics import accuracy_score, classification_report, confusion_matrix\n",
    "from sklearn.ensemble import GradientBoostingClassifier, VotingClassifier\n",
    "pd.options.mode.chained_assignment=None"
   ]
  },
  {
   "cell_type": "markdown",
   "metadata": {},
   "source": [
    "### Retrieval of Data : Prices and Constituents of S&P 500 (WRDS)"
   ]
  },
  {
   "cell_type": "code",
   "execution_count": 4,
   "metadata": {},
   "outputs": [],
   "source": [
    "main_df = pd.read_sas('C:/Users/Rishabb/Desktop/FALL 19/Stat Arb/Project/Prices_Data_2.sas7bdat')\n",
    "price_df = main_df.copy()"
   ]
  },
  {
   "cell_type": "code",
   "execution_count": 5,
   "metadata": {},
   "outputs": [
    {
     "data": {
      "text/html": [
       "<div>\n",
       "<style scoped>\n",
       "    .dataframe tbody tr th:only-of-type {\n",
       "        vertical-align: middle;\n",
       "    }\n",
       "\n",
       "    .dataframe tbody tr th {\n",
       "        vertical-align: top;\n",
       "    }\n",
       "\n",
       "    .dataframe thead th {\n",
       "        text-align: right;\n",
       "    }\n",
       "</style>\n",
       "<table border=\"1\" class=\"dataframe\">\n",
       "  <thead>\n",
       "    <tr style=\"text-align: right;\">\n",
       "      <th></th>\n",
       "      <th>GVKEY</th>\n",
       "      <th>IID</th>\n",
       "      <th>DATADATE</th>\n",
       "      <th>CONM</th>\n",
       "      <th>TIC</th>\n",
       "      <th>PRCCD</th>\n",
       "      <th>LINKPRIM</th>\n",
       "      <th>LIID</th>\n",
       "      <th>LINKTYPE</th>\n",
       "      <th>LPERMNO</th>\n",
       "      <th>LPERMCO</th>\n",
       "      <th>LINKDT</th>\n",
       "      <th>LINKENDDT</th>\n",
       "      <th>ccmbegdt</th>\n",
       "    </tr>\n",
       "  </thead>\n",
       "  <tbody>\n",
       "    <tr>\n",
       "      <td>0</td>\n",
       "      <td>b'001013'</td>\n",
       "      <td>b'01'</td>\n",
       "      <td>1990-01-02</td>\n",
       "      <td>b'ADC TELECOMMUNICATIONS INC'</td>\n",
       "      <td>b'ADCT.1'</td>\n",
       "      <td>18.625</td>\n",
       "      <td>b'P'</td>\n",
       "      <td>b'01'</td>\n",
       "      <td>b'LU'</td>\n",
       "      <td>50906.0</td>\n",
       "      <td>2902.0</td>\n",
       "      <td>1979-03-16</td>\n",
       "      <td>2010-12-31</td>\n",
       "      <td>1989-02-01</td>\n",
       "    </tr>\n",
       "    <tr>\n",
       "      <td>1</td>\n",
       "      <td>b'001013'</td>\n",
       "      <td>b'01'</td>\n",
       "      <td>1990-01-03</td>\n",
       "      <td>b'ADC TELECOMMUNICATIONS INC'</td>\n",
       "      <td>b'ADCT.1'</td>\n",
       "      <td>18.500</td>\n",
       "      <td>b'P'</td>\n",
       "      <td>b'01'</td>\n",
       "      <td>b'LU'</td>\n",
       "      <td>50906.0</td>\n",
       "      <td>2902.0</td>\n",
       "      <td>1979-03-16</td>\n",
       "      <td>2010-12-31</td>\n",
       "      <td>1989-02-01</td>\n",
       "    </tr>\n",
       "    <tr>\n",
       "      <td>2</td>\n",
       "      <td>b'001013'</td>\n",
       "      <td>b'01'</td>\n",
       "      <td>1990-01-04</td>\n",
       "      <td>b'ADC TELECOMMUNICATIONS INC'</td>\n",
       "      <td>b'ADCT.1'</td>\n",
       "      <td>18.125</td>\n",
       "      <td>b'P'</td>\n",
       "      <td>b'01'</td>\n",
       "      <td>b'LU'</td>\n",
       "      <td>50906.0</td>\n",
       "      <td>2902.0</td>\n",
       "      <td>1979-03-16</td>\n",
       "      <td>2010-12-31</td>\n",
       "      <td>1989-02-01</td>\n",
       "    </tr>\n",
       "    <tr>\n",
       "      <td>3</td>\n",
       "      <td>b'001013'</td>\n",
       "      <td>b'01'</td>\n",
       "      <td>1990-01-05</td>\n",
       "      <td>b'ADC TELECOMMUNICATIONS INC'</td>\n",
       "      <td>b'ADCT.1'</td>\n",
       "      <td>18.250</td>\n",
       "      <td>b'P'</td>\n",
       "      <td>b'01'</td>\n",
       "      <td>b'LU'</td>\n",
       "      <td>50906.0</td>\n",
       "      <td>2902.0</td>\n",
       "      <td>1979-03-16</td>\n",
       "      <td>2010-12-31</td>\n",
       "      <td>1989-02-01</td>\n",
       "    </tr>\n",
       "    <tr>\n",
       "      <td>4</td>\n",
       "      <td>b'001013'</td>\n",
       "      <td>b'01'</td>\n",
       "      <td>1990-01-08</td>\n",
       "      <td>b'ADC TELECOMMUNICATIONS INC'</td>\n",
       "      <td>b'ADCT.1'</td>\n",
       "      <td>18.000</td>\n",
       "      <td>b'P'</td>\n",
       "      <td>b'01'</td>\n",
       "      <td>b'LU'</td>\n",
       "      <td>50906.0</td>\n",
       "      <td>2902.0</td>\n",
       "      <td>1979-03-16</td>\n",
       "      <td>2010-12-31</td>\n",
       "      <td>1989-02-01</td>\n",
       "    </tr>\n",
       "  </tbody>\n",
       "</table>\n",
       "</div>"
      ],
      "text/plain": [
       "       GVKEY    IID   DATADATE                           CONM        TIC  \\\n",
       "0  b'001013'  b'01' 1990-01-02  b'ADC TELECOMMUNICATIONS INC'  b'ADCT.1'   \n",
       "1  b'001013'  b'01' 1990-01-03  b'ADC TELECOMMUNICATIONS INC'  b'ADCT.1'   \n",
       "2  b'001013'  b'01' 1990-01-04  b'ADC TELECOMMUNICATIONS INC'  b'ADCT.1'   \n",
       "3  b'001013'  b'01' 1990-01-05  b'ADC TELECOMMUNICATIONS INC'  b'ADCT.1'   \n",
       "4  b'001013'  b'01' 1990-01-08  b'ADC TELECOMMUNICATIONS INC'  b'ADCT.1'   \n",
       "\n",
       "    PRCCD LINKPRIM   LIID LINKTYPE  LPERMNO  LPERMCO     LINKDT  LINKENDDT  \\\n",
       "0  18.625     b'P'  b'01'    b'LU'  50906.0   2902.0 1979-03-16 2010-12-31   \n",
       "1  18.500     b'P'  b'01'    b'LU'  50906.0   2902.0 1979-03-16 2010-12-31   \n",
       "2  18.125     b'P'  b'01'    b'LU'  50906.0   2902.0 1979-03-16 2010-12-31   \n",
       "3  18.250     b'P'  b'01'    b'LU'  50906.0   2902.0 1979-03-16 2010-12-31   \n",
       "4  18.000     b'P'  b'01'    b'LU'  50906.0   2902.0 1979-03-16 2010-12-31   \n",
       "\n",
       "    ccmbegdt  \n",
       "0 1989-02-01  \n",
       "1 1989-02-01  \n",
       "2 1989-02-01  \n",
       "3 1989-02-01  \n",
       "4 1989-02-01  "
      ]
     },
     "execution_count": 5,
     "metadata": {},
     "output_type": "execute_result"
    }
   ],
   "source": [
    "price_df.head()"
   ]
  },
  {
   "cell_type": "code",
   "execution_count": 6,
   "metadata": {},
   "outputs": [],
   "source": [
    "constituent_df = pd.read_excel('C:/Users/Rishabb/Desktop/FALL 19/Stat Arb/Project/Constituent_Data_2.xlsx')"
   ]
  },
  {
   "cell_type": "code",
   "execution_count": 7,
   "metadata": {},
   "outputs": [],
   "source": [
    "constituent_df = constituent_df[['Start_Date', 'End_Date', 'GVKEY']]"
   ]
  },
  {
   "cell_type": "code",
   "execution_count": 8,
   "metadata": {},
   "outputs": [],
   "source": [
    "constituent_df['End_Date'] = constituent_df['End_Date'].fillna(date.today())\n",
    "constituent_df['End_Date'] = pd.to_datetime(constituent_df['End_Date'])\n",
    "constituent_df['Start_Date'] = pd.to_datetime(constituent_df['Start_Date'])"
   ]
  },
  {
   "cell_type": "code",
   "execution_count": 9,
   "metadata": {},
   "outputs": [
    {
     "data": {
      "text/html": [
       "<div>\n",
       "<style scoped>\n",
       "    .dataframe tbody tr th:only-of-type {\n",
       "        vertical-align: middle;\n",
       "    }\n",
       "\n",
       "    .dataframe tbody tr th {\n",
       "        vertical-align: top;\n",
       "    }\n",
       "\n",
       "    .dataframe thead th {\n",
       "        text-align: right;\n",
       "    }\n",
       "</style>\n",
       "<table border=\"1\" class=\"dataframe\">\n",
       "  <thead>\n",
       "    <tr style=\"text-align: right;\">\n",
       "      <th></th>\n",
       "      <th>Start_Date</th>\n",
       "      <th>End_Date</th>\n",
       "      <th>GVKEY</th>\n",
       "    </tr>\n",
       "  </thead>\n",
       "  <tbody>\n",
       "    <tr>\n",
       "      <td>0</td>\n",
       "      <td>1964-03-31</td>\n",
       "      <td>2019-10-15</td>\n",
       "      <td>1078</td>\n",
       "    </tr>\n",
       "    <tr>\n",
       "      <td>1</td>\n",
       "      <td>1964-03-31</td>\n",
       "      <td>2019-10-15</td>\n",
       "      <td>1300</td>\n",
       "    </tr>\n",
       "    <tr>\n",
       "      <td>2</td>\n",
       "      <td>1964-03-31</td>\n",
       "      <td>2019-10-15</td>\n",
       "      <td>1440</td>\n",
       "    </tr>\n",
       "    <tr>\n",
       "      <td>3</td>\n",
       "      <td>1964-03-31</td>\n",
       "      <td>2019-10-15</td>\n",
       "      <td>2285</td>\n",
       "    </tr>\n",
       "    <tr>\n",
       "      <td>4</td>\n",
       "      <td>1964-03-31</td>\n",
       "      <td>2019-10-15</td>\n",
       "      <td>2403</td>\n",
       "    </tr>\n",
       "  </tbody>\n",
       "</table>\n",
       "</div>"
      ],
      "text/plain": [
       "  Start_Date   End_Date  GVKEY\n",
       "0 1964-03-31 2019-10-15   1078\n",
       "1 1964-03-31 2019-10-15   1300\n",
       "2 1964-03-31 2019-10-15   1440\n",
       "3 1964-03-31 2019-10-15   2285\n",
       "4 1964-03-31 2019-10-15   2403"
      ]
     },
     "execution_count": 9,
     "metadata": {},
     "output_type": "execute_result"
    }
   ],
   "source": [
    "constituent_df.head()"
   ]
  },
  {
   "cell_type": "code",
   "execution_count": 10,
   "metadata": {},
   "outputs": [],
   "source": [
    "price_df.drop(['IID','TIC','LIID','LINKPRIM','LIID','LINKTYPE','LPERMNO','LPERMCO','LINKDT','LINKENDDT','ccmbegdt'], axis=1, inplace=True)"
   ]
  },
  {
   "cell_type": "code",
   "execution_count": 11,
   "metadata": {},
   "outputs": [],
   "source": [
    "price_df.rename(columns={'DATADATE':'Date','PRCCD':'Price','CONM':'COMPANY_NAME'}, inplace=True)"
   ]
  },
  {
   "cell_type": "code",
   "execution_count": 12,
   "metadata": {},
   "outputs": [],
   "source": [
    "price_df['GVKEY'] = price_df['GVKEY'].str.decode('utf-8')\n",
    "price_df['COMPANY_NAME'] = price_df['COMPANY_NAME'].str.decode('utf-8')"
   ]
  },
  {
   "cell_type": "code",
   "execution_count": 13,
   "metadata": {},
   "outputs": [],
   "source": [
    "price_df[\"GVKEY\"] = price_df.GVKEY.astype(int)"
   ]
  },
  {
   "cell_type": "markdown",
   "metadata": {},
   "source": [
    "### Matching the S&P500 Prices and Constituents by their date"
   ]
  },
  {
   "cell_type": "code",
   "execution_count": 14,
   "metadata": {},
   "outputs": [],
   "source": [
    "loop_1_sdate = pd.to_datetime('1990-01-01')\n",
    "loop_1_edate = pd.to_datetime('2016-01-01')\n",
    "tick_list = []\n",
    "while loop_1_sdate < loop_1_edate:\n",
    "    temp_date = loop_1_sdate + pd.DateOffset(months = 1)\n",
    "    temp_df = constituent_df[(constituent_df['Start_Date'] < loop_1_sdate) & (constituent_df['End_Date'] > temp_date)]\n",
    "    ticker_df = price_df[(price_df['Date'] >= loop_1_sdate) & (price_df['Date'] < temp_date) & (price_df['GVKEY'].isin(temp_df['GVKEY'].values))]\n",
    "    tick_list.append(ticker_df)\n",
    "    loop_1_sdate = temp_date  "
   ]
  },
  {
   "cell_type": "code",
   "execution_count": 15,
   "metadata": {},
   "outputs": [],
   "source": [
    "spx_df = pd.concat(tick_list)"
   ]
  },
  {
   "cell_type": "code",
   "execution_count": 16,
   "metadata": {},
   "outputs": [],
   "source": [
    "spx_df.sort_values(by=['Date'], inplace=True)"
   ]
  },
  {
   "cell_type": "markdown",
   "metadata": {},
   "source": [
    "### Creating batches of train(750 trading days) and test(subsequent 250 trading days) list "
   ]
  },
  {
   "cell_type": "code",
   "execution_count": 17,
   "metadata": {},
   "outputs": [],
   "source": [
    "loop_1_sdate = pd.to_datetime('1990-01-01')\n",
    "loop_1_edate = pd.to_datetime('2016-01-01')\n",
    "train_list = []\n",
    "test_list = []\n",
    "dates_list = spx_df.Date.unique()\n",
    "i = 0\n",
    "while i < (len(dates_list)-1000):\n",
    "    temp_date_1 = dates_list[i]\n",
    "    temp_date_2 = dates_list[i+750]\n",
    "    temp_date_3 = dates_list[i+1000]\n",
    "    ticker_df_1 = spx_df[(spx_df['Date'] >= temp_date_1) & (spx_df['Date'] < temp_date_2)]\n",
    "    ticker_df_2 = spx_df[(spx_df['Date'] >= temp_date_2) & (spx_df['Date'] < temp_date_3)]\n",
    "    train_list.append(ticker_df_1)\n",
    "    test_list.append(ticker_df_2)\n",
    "    i = i+250"
   ]
  },
  {
   "cell_type": "code",
   "execution_count": 18,
   "metadata": {},
   "outputs": [
    {
     "data": {
      "text/plain": [
       "750"
      ]
     },
     "execution_count": 18,
     "metadata": {},
     "output_type": "execute_result"
    }
   ],
   "source": [
    "len(train_list[0].Date.unique())"
   ]
  },
  {
   "cell_type": "code",
   "execution_count": 71,
   "metadata": {},
   "outputs": [
    {
     "data": {
      "text/plain": [
       "250"
      ]
     },
     "execution_count": 71,
     "metadata": {},
     "output_type": "execute_result"
    }
   ],
   "source": [
    "len(test_list[0].Date.unique())"
   ]
  },
  {
   "cell_type": "markdown",
   "metadata": {},
   "source": [
    "### Feature Engineering "
   ]
  },
  {
   "cell_type": "markdown",
   "metadata": {},
   "source": [
    "#### Function to prepare Train data "
   ]
  },
  {
   "cell_type": "code",
   "execution_count": 83,
   "metadata": {},
   "outputs": [],
   "source": [
    "def preparation_train_df(X):\n",
    "\n",
    "### Creation of 31 attributes\n",
    "    intervals_list = [i for i in range(1,20)] + [j for j in range(20,241,20)]\n",
    "    temp_list_1 = []\n",
    "    for ticker, temp_df in X.groupby('GVKEY'):\n",
    "        if len(temp_df) == 749:\n",
    "            for i in intervals_list:\n",
    "                idx = len(temp_df.columns.values)\n",
    "                temp_df.insert(loc = idx, column=\"Return_{}\".format(i), value=(np.log(temp_df['Price']) - np.log(temp_df['Price'].shift(i))))\n",
    "            column_list = temp_df.columns.values.tolist()\n",
    "            column_list.remove('GVKEY')\n",
    "            column_list.remove('Date')\n",
    "            column_list.remove('COMPANY_NAME')\n",
    "            column_list.remove('Price')\n",
    "            for m in column_list:\n",
    "                temp_df[m] = temp_df[m].fillna(temp_df[m].mean())\n",
    "            temp_list_1.append(temp_df)\n",
    "    pre_process_df = pd.concat(temp_list_1)\n",
    "\n",
    "### Normalizing train data\n",
    "    from sklearn import preprocessing\n",
    "    temp_list_2 = []\n",
    "    for ticker, temp_df in pre_process_df.groupby('Date'):\n",
    "        column_list = temp_df.columns.values.tolist()\n",
    "        column_list.remove('GVKEY')\n",
    "        column_list.remove('Date')\n",
    "        column_list.remove('COMPANY_NAME')\n",
    "        column_list.remove('Price')\n",
    "        for i in column_list:\n",
    "            temp_df[i] = (temp_df[i] - temp_df[i].mean())/temp_df[i].std() \n",
    "        temp_list_2.append(temp_df)\n",
    "    pre_process_df_1 = pd.concat(temp_list_2)\n",
    "\n",
    "### Creation of Conditional column based on our strategy \n",
    "    temp_list_3 = []\n",
    "    for ticker, temp_df in pre_process_df_1.groupby('GVKEY'):\n",
    "        temp_df = temp_df.assign(Conditional = temp_df.Return_1.shift(-1))\n",
    "        temp_df['Conditional'] = temp_df['Conditional'].fillna(method = 'ffill')\n",
    "        colmean = temp_df.Conditional.mean()\n",
    "        temp_df.Conditional = temp_df.Conditional.apply(lambda x: 1 if x > colmean else 2)    \n",
    "        temp_list_3.append(temp_df)\n",
    "    pre_process_df_2 = pd.concat(temp_list_3)\n",
    "\n",
    "    return pre_process_df_2"
   ]
  },
  {
   "cell_type": "markdown",
   "metadata": {},
   "source": [
    "#### Function to prepare Test Data"
   ]
  },
  {
   "cell_type": "code",
   "execution_count": 82,
   "metadata": {},
   "outputs": [],
   "source": [
    "def preparation_test_df(X):\n",
    "    intervals_list = [i for i in range(1,20)] + [j for j in range(20,241,20)]\n",
    "    test_list_1 = []\n",
    "    for ticker, temp_df in X.groupby('GVKEY'):\n",
    "        if len(temp_df) == 250:\n",
    "            for i in intervals_list:\n",
    "                idx = len(temp_df.columns.values)\n",
    "                temp_df.insert(loc = idx, column=\"Return_{}\".format(i), value=(np.log(temp_df['Price']) - np.log(temp_df['Price'].shift(i))))\n",
    "            column_list = temp_df.columns.values.tolist()\n",
    "            column_list.remove('GVKEY')\n",
    "            column_list.remove('Date')\n",
    "            column_list.remove('COMPANY_NAME')\n",
    "            column_list.remove('Price')\n",
    "            for m in column_list:\n",
    "                temp_df[m] = temp_df[m].fillna(temp_df[m].mean())\n",
    "            test_list_1.append(temp_df)\n",
    "    test_process_df = pd.concat(test_list_1)\n",
    "\n",
    "    test_list_2 = []\n",
    "    for ticker, temp_df in test_process_df.groupby('Date'):\n",
    "        column_list = temp_df.columns.values.tolist()\n",
    "        column_list.remove('GVKEY')\n",
    "        column_list.remove('Date')\n",
    "        column_list.remove('COMPANY_NAME')\n",
    "        column_list.remove('Price')\n",
    "        for i in column_list:\n",
    "            temp_df[i] = (temp_df[i] - temp_df[i].mean())/temp_df[i].std() \n",
    "        test_list_2.append(temp_df)\n",
    "    test_process_df_1 = pd.concat(test_list_2)\n",
    "\n",
    "    test_list_3 = []\n",
    "    for ticker, temp_df in test_process_df_1.groupby('GVKEY'):\n",
    "        temp_df = temp_df.assign(Conditional = temp_df.Return_1.shift(-1))\n",
    "        temp_df['Conditional'] = temp_df['Conditional'].fillna(method = 'ffill')\n",
    "        colmean = temp_df.Conditional.mean()\n",
    "        temp_df.Conditional = temp_df.Conditional.apply(lambda x: 1 if x > colmean else 2)    \n",
    "        test_list_3.append(temp_df)\n",
    "    test_process_df_2 = pd.concat(test_list_3)\n",
    " \n",
    "    return test_process_df_2"
   ]
  },
  {
   "cell_type": "markdown",
   "metadata": {},
   "source": [
    "### Program for first set of Train and Test data "
   ]
  },
  {
   "cell_type": "code",
   "execution_count": 112,
   "metadata": {},
   "outputs": [
    {
     "name": "stderr",
     "output_type": "stream",
     "text": [
      "C:\\Users\\Rishabb\\Anaconda3\\lib\\site-packages\\ipykernel_launcher.py:17: SettingWithCopyWarning: \n",
      "A value is trying to be set on a copy of a slice from a DataFrame.\n",
      "Try using .loc[row_indexer,col_indexer] = value instead\n",
      "\n",
      "See the caveats in the documentation: http://pandas.pydata.org/pandas-docs/stable/user_guide/indexing.html#returning-a-view-versus-a-copy\n",
      "C:\\Users\\Rishabb\\Anaconda3\\lib\\site-packages\\ipykernel_launcher.py:31: SettingWithCopyWarning: \n",
      "A value is trying to be set on a copy of a slice from a DataFrame.\n",
      "Try using .loc[row_indexer,col_indexer] = value instead\n",
      "\n",
      "See the caveats in the documentation: http://pandas.pydata.org/pandas-docs/stable/user_guide/indexing.html#returning-a-view-versus-a-copy\n",
      "C:\\Users\\Rishabb\\Anaconda3\\lib\\site-packages\\ipykernel_launcher.py:15: SettingWithCopyWarning: \n",
      "A value is trying to be set on a copy of a slice from a DataFrame.\n",
      "Try using .loc[row_indexer,col_indexer] = value instead\n",
      "\n",
      "See the caveats in the documentation: http://pandas.pydata.org/pandas-docs/stable/user_guide/indexing.html#returning-a-view-versus-a-copy\n",
      "  from ipykernel import kernelapp as app\n",
      "C:\\Users\\Rishabb\\Anaconda3\\lib\\site-packages\\ipykernel_launcher.py:27: SettingWithCopyWarning: \n",
      "A value is trying to be set on a copy of a slice from a DataFrame.\n",
      "Try using .loc[row_indexer,col_indexer] = value instead\n",
      "\n",
      "See the caveats in the documentation: http://pandas.pydata.org/pandas-docs/stable/user_guide/indexing.html#returning-a-view-versus-a-copy\n"
     ]
    }
   ],
   "source": [
    "train_df = preparation_train_df(train_list[0])\n",
    "test_df = preparation_test_df(test_list[0])"
   ]
  },
  {
   "cell_type": "code",
   "execution_count": 113,
   "metadata": {},
   "outputs": [
    {
     "data": {
      "text/html": [
       "<div>\n",
       "<style scoped>\n",
       "    .dataframe tbody tr th:only-of-type {\n",
       "        vertical-align: middle;\n",
       "    }\n",
       "\n",
       "    .dataframe tbody tr th {\n",
       "        vertical-align: top;\n",
       "    }\n",
       "\n",
       "    .dataframe thead th {\n",
       "        text-align: right;\n",
       "    }\n",
       "</style>\n",
       "<table border=\"1\" class=\"dataframe\">\n",
       "  <thead>\n",
       "    <tr style=\"text-align: right;\">\n",
       "      <th></th>\n",
       "      <th>GVKEY</th>\n",
       "      <th>Date</th>\n",
       "      <th>COMPANY_NAME</th>\n",
       "      <th>Price</th>\n",
       "      <th>Return_1</th>\n",
       "      <th>Return_2</th>\n",
       "      <th>Return_3</th>\n",
       "      <th>Return_4</th>\n",
       "      <th>Return_5</th>\n",
       "      <th>Return_6</th>\n",
       "      <th>...</th>\n",
       "      <th>Return_80</th>\n",
       "      <th>Return_100</th>\n",
       "      <th>Return_120</th>\n",
       "      <th>Return_140</th>\n",
       "      <th>Return_160</th>\n",
       "      <th>Return_180</th>\n",
       "      <th>Return_200</th>\n",
       "      <th>Return_220</th>\n",
       "      <th>Return_240</th>\n",
       "      <th>Conditional</th>\n",
       "    </tr>\n",
       "  </thead>\n",
       "  <tbody>\n",
       "    <tr>\n",
       "      <td>5280</td>\n",
       "      <td>1045</td>\n",
       "      <td>1990-01-02</td>\n",
       "      <td>AMERICAN AIRLINES GROUP INC</td>\n",
       "      <td>59.750</td>\n",
       "      <td>0.186445</td>\n",
       "      <td>0.182242</td>\n",
       "      <td>0.192131</td>\n",
       "      <td>0.181235</td>\n",
       "      <td>0.175203</td>\n",
       "      <td>0.193423</td>\n",
       "      <td>...</td>\n",
       "      <td>0.078169</td>\n",
       "      <td>0.051181</td>\n",
       "      <td>0.061186</td>\n",
       "      <td>0.071964</td>\n",
       "      <td>0.113306</td>\n",
       "      <td>0.182062</td>\n",
       "      <td>0.258761</td>\n",
       "      <td>0.281651</td>\n",
       "      <td>0.301506</td>\n",
       "      <td>2</td>\n",
       "    </tr>\n",
       "    <tr>\n",
       "      <td>5281</td>\n",
       "      <td>1045</td>\n",
       "      <td>1990-01-03</td>\n",
       "      <td>AMERICAN AIRLINES GROUP INC</td>\n",
       "      <td>59.500</td>\n",
       "      <td>-0.111304</td>\n",
       "      <td>0.182242</td>\n",
       "      <td>0.192131</td>\n",
       "      <td>0.181235</td>\n",
       "      <td>0.175203</td>\n",
       "      <td>0.193423</td>\n",
       "      <td>...</td>\n",
       "      <td>0.078169</td>\n",
       "      <td>0.051181</td>\n",
       "      <td>0.061186</td>\n",
       "      <td>0.071964</td>\n",
       "      <td>0.113306</td>\n",
       "      <td>0.182062</td>\n",
       "      <td>0.258761</td>\n",
       "      <td>0.281651</td>\n",
       "      <td>0.301506</td>\n",
       "      <td>2</td>\n",
       "    </tr>\n",
       "    <tr>\n",
       "      <td>5282</td>\n",
       "      <td>1045</td>\n",
       "      <td>1990-01-04</td>\n",
       "      <td>AMERICAN AIRLINES GROUP INC</td>\n",
       "      <td>58.750</td>\n",
       "      <td>-0.383797</td>\n",
       "      <td>-0.318101</td>\n",
       "      <td>0.192131</td>\n",
       "      <td>0.181235</td>\n",
       "      <td>0.175203</td>\n",
       "      <td>0.193423</td>\n",
       "      <td>...</td>\n",
       "      <td>0.078169</td>\n",
       "      <td>0.051181</td>\n",
       "      <td>0.061186</td>\n",
       "      <td>0.071964</td>\n",
       "      <td>0.113306</td>\n",
       "      <td>0.182062</td>\n",
       "      <td>0.258761</td>\n",
       "      <td>0.281651</td>\n",
       "      <td>0.301506</td>\n",
       "      <td>1</td>\n",
       "    </tr>\n",
       "    <tr>\n",
       "      <td>5283</td>\n",
       "      <td>1045</td>\n",
       "      <td>1990-01-05</td>\n",
       "      <td>AMERICAN AIRLINES GROUP INC</td>\n",
       "      <td>59.625</td>\n",
       "      <td>1.432132</td>\n",
       "      <td>0.669719</td>\n",
       "      <td>0.429518</td>\n",
       "      <td>0.181235</td>\n",
       "      <td>0.175203</td>\n",
       "      <td>0.193423</td>\n",
       "      <td>...</td>\n",
       "      <td>0.078169</td>\n",
       "      <td>0.051181</td>\n",
       "      <td>0.061186</td>\n",
       "      <td>0.071964</td>\n",
       "      <td>0.113306</td>\n",
       "      <td>0.182062</td>\n",
       "      <td>0.258761</td>\n",
       "      <td>0.281651</td>\n",
       "      <td>0.301506</td>\n",
       "      <td>2</td>\n",
       "    </tr>\n",
       "    <tr>\n",
       "      <td>5284</td>\n",
       "      <td>1045</td>\n",
       "      <td>1990-01-08</td>\n",
       "      <td>AMERICAN AIRLINES GROUP INC</td>\n",
       "      <td>59.125</td>\n",
       "      <td>-0.781588</td>\n",
       "      <td>0.568475</td>\n",
       "      <td>0.185735</td>\n",
       "      <td>0.083169</td>\n",
       "      <td>0.175203</td>\n",
       "      <td>0.193423</td>\n",
       "      <td>...</td>\n",
       "      <td>0.078169</td>\n",
       "      <td>0.051181</td>\n",
       "      <td>0.061186</td>\n",
       "      <td>0.071964</td>\n",
       "      <td>0.113306</td>\n",
       "      <td>0.182062</td>\n",
       "      <td>0.258761</td>\n",
       "      <td>0.281651</td>\n",
       "      <td>0.301506</td>\n",
       "      <td>2</td>\n",
       "    </tr>\n",
       "  </tbody>\n",
       "</table>\n",
       "<p>5 rows × 36 columns</p>\n",
       "</div>"
      ],
      "text/plain": [
       "      GVKEY       Date                 COMPANY_NAME   Price  Return_1  \\\n",
       "5280   1045 1990-01-02  AMERICAN AIRLINES GROUP INC  59.750  0.186445   \n",
       "5281   1045 1990-01-03  AMERICAN AIRLINES GROUP INC  59.500 -0.111304   \n",
       "5282   1045 1990-01-04  AMERICAN AIRLINES GROUP INC  58.750 -0.383797   \n",
       "5283   1045 1990-01-05  AMERICAN AIRLINES GROUP INC  59.625  1.432132   \n",
       "5284   1045 1990-01-08  AMERICAN AIRLINES GROUP INC  59.125 -0.781588   \n",
       "\n",
       "      Return_2  Return_3  Return_4  Return_5  Return_6  ...  Return_80  \\\n",
       "5280  0.182242  0.192131  0.181235  0.175203  0.193423  ...   0.078169   \n",
       "5281  0.182242  0.192131  0.181235  0.175203  0.193423  ...   0.078169   \n",
       "5282 -0.318101  0.192131  0.181235  0.175203  0.193423  ...   0.078169   \n",
       "5283  0.669719  0.429518  0.181235  0.175203  0.193423  ...   0.078169   \n",
       "5284  0.568475  0.185735  0.083169  0.175203  0.193423  ...   0.078169   \n",
       "\n",
       "      Return_100  Return_120  Return_140  Return_160  Return_180  Return_200  \\\n",
       "5280    0.051181    0.061186    0.071964    0.113306    0.182062    0.258761   \n",
       "5281    0.051181    0.061186    0.071964    0.113306    0.182062    0.258761   \n",
       "5282    0.051181    0.061186    0.071964    0.113306    0.182062    0.258761   \n",
       "5283    0.051181    0.061186    0.071964    0.113306    0.182062    0.258761   \n",
       "5284    0.051181    0.061186    0.071964    0.113306    0.182062    0.258761   \n",
       "\n",
       "      Return_220  Return_240  Conditional  \n",
       "5280    0.281651    0.301506            2  \n",
       "5281    0.281651    0.301506            2  \n",
       "5282    0.281651    0.301506            1  \n",
       "5283    0.281651    0.301506            2  \n",
       "5284    0.281651    0.301506            2  \n",
       "\n",
       "[5 rows x 36 columns]"
      ]
     },
     "execution_count": 113,
     "metadata": {},
     "output_type": "execute_result"
    }
   ],
   "source": [
    "train_df.head()"
   ]
  },
  {
   "cell_type": "code",
   "execution_count": 114,
   "metadata": {},
   "outputs": [
    {
     "data": {
      "text/html": [
       "<div>\n",
       "<style scoped>\n",
       "    .dataframe tbody tr th:only-of-type {\n",
       "        vertical-align: middle;\n",
       "    }\n",
       "\n",
       "    .dataframe tbody tr th {\n",
       "        vertical-align: top;\n",
       "    }\n",
       "\n",
       "    .dataframe thead th {\n",
       "        text-align: right;\n",
       "    }\n",
       "</style>\n",
       "<table border=\"1\" class=\"dataframe\">\n",
       "  <thead>\n",
       "    <tr style=\"text-align: right;\">\n",
       "      <th></th>\n",
       "      <th>GVKEY</th>\n",
       "      <th>Date</th>\n",
       "      <th>COMPANY_NAME</th>\n",
       "      <th>Price</th>\n",
       "      <th>Return_1</th>\n",
       "      <th>Return_2</th>\n",
       "      <th>Return_3</th>\n",
       "      <th>Return_4</th>\n",
       "      <th>Return_5</th>\n",
       "      <th>Return_6</th>\n",
       "      <th>...</th>\n",
       "      <th>Return_80</th>\n",
       "      <th>Return_100</th>\n",
       "      <th>Return_120</th>\n",
       "      <th>Return_140</th>\n",
       "      <th>Return_160</th>\n",
       "      <th>Return_180</th>\n",
       "      <th>Return_200</th>\n",
       "      <th>Return_220</th>\n",
       "      <th>Return_240</th>\n",
       "      <th>Conditional</th>\n",
       "    </tr>\n",
       "  </thead>\n",
       "  <tbody>\n",
       "    <tr>\n",
       "      <td>6029</td>\n",
       "      <td>1045</td>\n",
       "      <td>1992-12-16</td>\n",
       "      <td>AMERICAN AIRLINES GROUP INC</td>\n",
       "      <td>60.625</td>\n",
       "      <td>0.335337</td>\n",
       "      <td>0.286573</td>\n",
       "      <td>0.267005</td>\n",
       "      <td>0.240477</td>\n",
       "      <td>0.209304</td>\n",
       "      <td>0.194836</td>\n",
       "      <td>...</td>\n",
       "      <td>0.220893</td>\n",
       "      <td>0.15274</td>\n",
       "      <td>0.051177</td>\n",
       "      <td>0.097867</td>\n",
       "      <td>0.182623</td>\n",
       "      <td>0.24339</td>\n",
       "      <td>0.213111</td>\n",
       "      <td>0.124836</td>\n",
       "      <td>0.14881</td>\n",
       "      <td>1</td>\n",
       "    </tr>\n",
       "    <tr>\n",
       "      <td>6030</td>\n",
       "      <td>1045</td>\n",
       "      <td>1992-12-17</td>\n",
       "      <td>AMERICAN AIRLINES GROUP INC</td>\n",
       "      <td>62.375</td>\n",
       "      <td>1.193347</td>\n",
       "      <td>0.286573</td>\n",
       "      <td>0.267005</td>\n",
       "      <td>0.240477</td>\n",
       "      <td>0.209304</td>\n",
       "      <td>0.194836</td>\n",
       "      <td>...</td>\n",
       "      <td>0.220893</td>\n",
       "      <td>0.15274</td>\n",
       "      <td>0.051177</td>\n",
       "      <td>0.097867</td>\n",
       "      <td>0.182623</td>\n",
       "      <td>0.24339</td>\n",
       "      <td>0.213111</td>\n",
       "      <td>0.124836</td>\n",
       "      <td>0.14881</td>\n",
       "      <td>1</td>\n",
       "    </tr>\n",
       "    <tr>\n",
       "      <td>6031</td>\n",
       "      <td>1045</td>\n",
       "      <td>1992-12-18</td>\n",
       "      <td>AMERICAN AIRLINES GROUP INC</td>\n",
       "      <td>63.250</td>\n",
       "      <td>0.086007</td>\n",
       "      <td>0.856743</td>\n",
       "      <td>0.267005</td>\n",
       "      <td>0.240477</td>\n",
       "      <td>0.209304</td>\n",
       "      <td>0.194836</td>\n",
       "      <td>...</td>\n",
       "      <td>0.220893</td>\n",
       "      <td>0.15274</td>\n",
       "      <td>0.051177</td>\n",
       "      <td>0.097867</td>\n",
       "      <td>0.182623</td>\n",
       "      <td>0.24339</td>\n",
       "      <td>0.213111</td>\n",
       "      <td>0.124836</td>\n",
       "      <td>0.14881</td>\n",
       "      <td>1</td>\n",
       "    </tr>\n",
       "    <tr>\n",
       "      <td>6032</td>\n",
       "      <td>1045</td>\n",
       "      <td>1992-12-21</td>\n",
       "      <td>AMERICAN AIRLINES GROUP INC</td>\n",
       "      <td>63.750</td>\n",
       "      <td>0.323242</td>\n",
       "      <td>0.327195</td>\n",
       "      <td>0.755980</td>\n",
       "      <td>0.240477</td>\n",
       "      <td>0.209304</td>\n",
       "      <td>0.194836</td>\n",
       "      <td>...</td>\n",
       "      <td>0.220893</td>\n",
       "      <td>0.15274</td>\n",
       "      <td>0.051177</td>\n",
       "      <td>0.097867</td>\n",
       "      <td>0.182623</td>\n",
       "      <td>0.24339</td>\n",
       "      <td>0.213111</td>\n",
       "      <td>0.124836</td>\n",
       "      <td>0.14881</td>\n",
       "      <td>1</td>\n",
       "    </tr>\n",
       "    <tr>\n",
       "      <td>6033</td>\n",
       "      <td>1045</td>\n",
       "      <td>1992-12-22</td>\n",
       "      <td>AMERICAN AIRLINES GROUP INC</td>\n",
       "      <td>63.750</td>\n",
       "      <td>0.027146</td>\n",
       "      <td>0.249864</td>\n",
       "      <td>0.265119</td>\n",
       "      <td>0.610199</td>\n",
       "      <td>0.209304</td>\n",
       "      <td>0.194836</td>\n",
       "      <td>...</td>\n",
       "      <td>0.220893</td>\n",
       "      <td>0.15274</td>\n",
       "      <td>0.051177</td>\n",
       "      <td>0.097867</td>\n",
       "      <td>0.182623</td>\n",
       "      <td>0.24339</td>\n",
       "      <td>0.213111</td>\n",
       "      <td>0.124836</td>\n",
       "      <td>0.14881</td>\n",
       "      <td>1</td>\n",
       "    </tr>\n",
       "  </tbody>\n",
       "</table>\n",
       "<p>5 rows × 36 columns</p>\n",
       "</div>"
      ],
      "text/plain": [
       "      GVKEY       Date                 COMPANY_NAME   Price  Return_1  \\\n",
       "6029   1045 1992-12-16  AMERICAN AIRLINES GROUP INC  60.625  0.335337   \n",
       "6030   1045 1992-12-17  AMERICAN AIRLINES GROUP INC  62.375  1.193347   \n",
       "6031   1045 1992-12-18  AMERICAN AIRLINES GROUP INC  63.250  0.086007   \n",
       "6032   1045 1992-12-21  AMERICAN AIRLINES GROUP INC  63.750  0.323242   \n",
       "6033   1045 1992-12-22  AMERICAN AIRLINES GROUP INC  63.750  0.027146   \n",
       "\n",
       "      Return_2  Return_3  Return_4  Return_5  Return_6  ...  Return_80  \\\n",
       "6029  0.286573  0.267005  0.240477  0.209304  0.194836  ...   0.220893   \n",
       "6030  0.286573  0.267005  0.240477  0.209304  0.194836  ...   0.220893   \n",
       "6031  0.856743  0.267005  0.240477  0.209304  0.194836  ...   0.220893   \n",
       "6032  0.327195  0.755980  0.240477  0.209304  0.194836  ...   0.220893   \n",
       "6033  0.249864  0.265119  0.610199  0.209304  0.194836  ...   0.220893   \n",
       "\n",
       "      Return_100  Return_120  Return_140  Return_160  Return_180  Return_200  \\\n",
       "6029     0.15274    0.051177    0.097867    0.182623     0.24339    0.213111   \n",
       "6030     0.15274    0.051177    0.097867    0.182623     0.24339    0.213111   \n",
       "6031     0.15274    0.051177    0.097867    0.182623     0.24339    0.213111   \n",
       "6032     0.15274    0.051177    0.097867    0.182623     0.24339    0.213111   \n",
       "6033     0.15274    0.051177    0.097867    0.182623     0.24339    0.213111   \n",
       "\n",
       "      Return_220  Return_240  Conditional  \n",
       "6029    0.124836     0.14881            1  \n",
       "6030    0.124836     0.14881            1  \n",
       "6031    0.124836     0.14881            1  \n",
       "6032    0.124836     0.14881            1  \n",
       "6033    0.124836     0.14881            1  \n",
       "\n",
       "[5 rows x 36 columns]"
      ]
     },
     "execution_count": 114,
     "metadata": {},
     "output_type": "execute_result"
    }
   ],
   "source": [
    "test_df.head()"
   ]
  },
  {
   "cell_type": "markdown",
   "metadata": {},
   "source": [
    "### Objects to track period returns , hit ratios ,conditional expected gain and accuracy of each model "
   ]
  },
  {
   "cell_type": "code",
   "execution_count": 177,
   "metadata": {},
   "outputs": [],
   "source": [
    "RAF_long_returns = []\n",
    "DNN_long_returns = []\n",
    "GBT_long_returns = []\n",
    "ENS_long_returns = []\n",
    "\n",
    "RAF_short_returns = []\n",
    "DNN_short_returns = []\n",
    "GBT_short_returns = []\n",
    "ENS_short_returns = []\n",
    "\n",
    "RAF_overall_returns = []\n",
    "DNN_overall_returns = []\n",
    "GBT_overall_returns = []\n",
    "ENS_overall_returns = []\n",
    "\n",
    "RAF_hit_ratio = []\n",
    "DNN_hit_ratio = []\n",
    "GBT_hit_ratio = []\n",
    "ENS_hit_ratio = []\n",
    "\n",
    "RAF_ceg = []\n",
    "DNN_ceg = []\n",
    "GBT_ceg = []\n",
    "ENS_ceg = []\n",
    "\n",
    "RAF_accuracy = []\n",
    "DNN_accuracy = []\n",
    "GBT_accuracy = []\n",
    "ENS_accuracy = []"
   ]
  },
  {
   "cell_type": "markdown",
   "metadata": {},
   "source": [
    "#### List of columns for training models"
   ]
  },
  {
   "cell_type": "code",
   "execution_count": 133,
   "metadata": {},
   "outputs": [],
   "source": [
    "column_list = train_df.columns.values.tolist()\n",
    "column_list.remove('GVKEY')\n",
    "column_list.remove('Date')\n",
    "column_list.remove('COMPANY_NAME')\n",
    "column_list.remove('Price')\n",
    "column_list.remove('Conditional')"
   ]
  },
  {
   "cell_type": "markdown",
   "metadata": {},
   "source": [
    "### Random Forest Model Run"
   ]
  },
  {
   "cell_type": "code",
   "execution_count": 110,
   "metadata": {},
   "outputs": [],
   "source": [
    "from sklearn.ensemble import RandomForestClassifier\n",
    "\n",
    "raf_clf =  RandomForestClassifier(max_depth = 5, n_estimators =  100, random_state = 1)"
   ]
  },
  {
   "cell_type": "code",
   "execution_count": 120,
   "metadata": {},
   "outputs": [
    {
     "data": {
      "text/plain": [
       "RandomForestClassifier(bootstrap=True, class_weight=None, criterion='gini',\n",
       "            max_depth=10, max_features='auto', max_leaf_nodes=None,\n",
       "            min_impurity_decrease=0.0, min_impurity_split=None,\n",
       "            min_samples_leaf=1, min_samples_split=2,\n",
       "            min_weight_fraction_leaf=0.0, n_estimators=400, n_jobs=1,\n",
       "            oob_score=False, random_state=1, verbose=0, warm_start=False)"
      ]
     },
     "execution_count": 120,
     "metadata": {},
     "output_type": "execute_result"
    }
   ],
   "source": [
    "raf_clf.fit(train_df[column_list],train_df[\"Conditional\"])"
   ]
  },
  {
   "cell_type": "code",
   "execution_count": 121,
   "metadata": {},
   "outputs": [],
   "source": [
    "y_pred = raf_clf.predict(test_df[column_list])"
   ]
  },
  {
   "cell_type": "code",
   "execution_count": 122,
   "metadata": {},
   "outputs": [],
   "source": [
    "from sklearn.metrics import confusion_matrix\n",
    "conf_mat = confusion_matrix(test_df[\"Conditional\"], y_pred, labels=[1, 2])"
   ]
  },
  {
   "cell_type": "code",
   "execution_count": 123,
   "metadata": {},
   "outputs": [
    {
     "data": {
      "text/plain": [
       "array([[0.57420892, 0.42579108],\n",
       "       [0.53280577, 0.46719423]])"
      ]
     },
     "execution_count": 123,
     "metadata": {},
     "output_type": "execute_result"
    }
   ],
   "source": [
    "(conf_mat.T/conf_mat.sum(axis=1)).T"
   ]
  },
  {
   "cell_type": "code",
   "execution_count": 124,
   "metadata": {},
   "outputs": [],
   "source": [
    "predprob = raf_clf.predict_proba(test_df[column_list])"
   ]
  },
  {
   "cell_type": "code",
   "execution_count": 125,
   "metadata": {},
   "outputs": [
    {
     "data": {
      "text/plain": [
       "array([[0.51542242, 0.48457758],\n",
       "       [0.51431626, 0.48568374],\n",
       "       [0.5091081 , 0.4908919 ],\n",
       "       ...,\n",
       "       [0.49284745, 0.50715255],\n",
       "       [0.48588487, 0.51411513],\n",
       "       [0.49707238, 0.50292762]])"
      ]
     },
     "execution_count": 125,
     "metadata": {},
     "output_type": "execute_result"
    }
   ],
   "source": [
    "predprob"
   ]
  },
  {
   "cell_type": "markdown",
   "metadata": {},
   "source": [
    "### Function to evaluate model's strategy performance"
   ]
  },
  {
   "cell_type": "code",
   "execution_count": 174,
   "metadata": {},
   "outputs": [],
   "source": [
    "from functools import reduce\n",
    "def evaluate_process(process):\n",
    "    x,y = process.T\n",
    "\n",
    "    x = x.tolist()\n",
    "    y = y.tolist()\n",
    "\n",
    "    test_df[\"pred_prob_1\"] =  x\n",
    "    test_df[\"pred_prob_2\"] =  y\n",
    "    conditions = [(test_df.pred_prob_1 > test_df.pred_prob_2), (test_df.pred_prob_2 > test_df.pred_prob_1)]\n",
    "    choices = [1,2]\n",
    "    test_df[\"prediction\"] = np.select(conditions,choices)\n",
    "    \n",
    "    list_a = []\n",
    "    for ticker, temp_df in test_df.groupby('GVKEY'):\n",
    "        temp_df = temp_df.assign(Return_f1 = temp_df.Return_1.shift(-1))\n",
    "        temp_df.Return_f1 = temp_df.Return_f1.fillna(method = 'ffill')\n",
    "        list_a.append(temp_df)\n",
    "    test_process_df_3 = pd.concat(list_a)\n",
    "\n",
    "    collection_1Returns = []\n",
    "    collection_2Returns = []\n",
    "    ceg_list = []\n",
    "    hit_ratio = []\n",
    "    for ticker, temp_df in test_process_df_3.groupby('Date'):\n",
    "        temp_1 = temp_df.sort_values(by = [\"pred_prob_1\"], ascending=False)\n",
    "        temp_2 = temp_df.sort_values(by = [\"pred_prob_2\"], ascending=False)\n",
    "        temp_1 = temp_1[:10]\n",
    "        temp_2 = temp_2[:10]\n",
    "\n",
    "        df1 = temp_1[['prediction','Conditional']]\n",
    "        yourdf1 = temp_1[df1.eq(df1.iloc[:, 0], axis=0).all(axis=1)]\n",
    "        yourdf1.Return_f1 = yourdf1.Return_f1/100 + 1\n",
    "        hit_ratio.append((len(yourdf1)))\n",
    "        ceg_list.append(yourdf1.Return_f1.astype(object).product())\n",
    "        df1 = temp_2[['prediction','Conditional']]\n",
    "        yourdf1 = temp_2[df1.eq(df1.iloc[:, 0], axis=0).all(axis=1)]\n",
    "        yourdf1.Return_f1 = 1 - yourdf1.Return_f1/100 \n",
    "        hit_ratio.append((len(yourdf1)))\n",
    "        ceg_list.append(yourdf1.Return_f1.astype(object).product())\n",
    "\n",
    "        arr_1  = temp_1.Return_f1.values\n",
    "        arr_2  = temp_2.Return_f1.values\n",
    "        collection_1Returns.append(arr_1)\n",
    "        collection_2Returns.append(arr_2)\n",
    "\n",
    "    hit_ratio_num = sum(hit_ratio)/(len(hit_ratio)*10)\n",
    "    ceg = (reduce(lambda x, y: x * y, ceg_list, 1))**(1/250)\n",
    "\n",
    "    print(\"The hit ratio is:\",hit_ratio_num)\n",
    "    print(\"The conditional expected gain is:\",ceg)\n",
    "    \n",
    "    returns_1 = 1\n",
    "    for i in range(len(collection_1Returns)):\n",
    "        for j in range(len(collection_1Returns[i])):\n",
    "            returns_1 = returns_1*(1 + (collection_1Returns[i][j]/100))\n",
    "    print(\"Long strategy Returns:\",returns_1)\n",
    "\n",
    "    returns_2 = 1\n",
    "    for i in range(len(collection_2Returns)):\n",
    "        for j in range(len(collection_2Returns[i])):\n",
    "            returns_2 = returns_2*(1 - (collection_2Returns[i][j]/100))\n",
    "    print(\"Short strategy Returns:\",returns_2)\n",
    "\n",
    "    returns_overall_daily = (returns_1*returns_2)**(1/250)\n",
    "    print(\"Overall strategy Returns:\",returns_overall_daily)\n",
    "        \n",
    "    return returns_1,returns_2,returns_overall_daily,hit_ratio_num,ceg"
   ]
  },
  {
   "cell_type": "code",
   "execution_count": 201,
   "metadata": {},
   "outputs": [
    {
     "ename": "NameError",
     "evalue": "name 'raf_clf' is not defined",
     "output_type": "error",
     "traceback": [
      "\u001b[1;31m---------------------------------------------------------------------------\u001b[0m",
      "\u001b[1;31mNameError\u001b[0m                                 Traceback (most recent call last)",
      "\u001b[1;32m<ipython-input-201-b073e5a1677a>\u001b[0m in \u001b[0;36m<module>\u001b[1;34m()\u001b[0m\n\u001b[0;32m      1\u001b[0m \u001b[0mfeatures\u001b[0m \u001b[1;33m=\u001b[0m \u001b[0mcolumn_list\u001b[0m\u001b[1;33m\u001b[0m\u001b[0m\n\u001b[1;32m----> 2\u001b[1;33m \u001b[0mimportances\u001b[0m \u001b[1;33m=\u001b[0m \u001b[0mraf_clf\u001b[0m\u001b[1;33m.\u001b[0m\u001b[0mfeature_importances_\u001b[0m\u001b[1;33m\u001b[0m\u001b[0m\n\u001b[0m\u001b[0;32m      3\u001b[0m \u001b[0mindices\u001b[0m \u001b[1;33m=\u001b[0m \u001b[0mnp\u001b[0m\u001b[1;33m.\u001b[0m\u001b[0margsort\u001b[0m\u001b[1;33m(\u001b[0m\u001b[0mimportances\u001b[0m\u001b[1;33m)\u001b[0m\u001b[1;33m\u001b[0m\u001b[0m\n\u001b[0;32m      4\u001b[0m \u001b[1;33m\u001b[0m\u001b[0m\n\u001b[0;32m      5\u001b[0m \u001b[0mplt\u001b[0m\u001b[1;33m.\u001b[0m\u001b[0mtitle\u001b[0m\u001b[1;33m(\u001b[0m\u001b[1;34m'Feature Importances'\u001b[0m\u001b[1;33m)\u001b[0m\u001b[1;33m\u001b[0m\u001b[0m\n",
      "\u001b[1;31mNameError\u001b[0m: name 'raf_clf' is not defined"
     ]
    }
   ],
   "source": [
    "features = column_list\n",
    "importances = raf_clf.feature_importances_\n",
    "indices = np.argsort(importances)\n",
    "\n",
    "plt.figure(figsize=(7,8))\n",
    "plt.title('Feature Importances')\n",
    "plt.barh(range(len(indices)), importances[indices], color='b', align='center')\n",
    "plt.yticks(range(len(indices)), [features[i] for i in indices])\n",
    "plt.xlabel('Relative Importance')\n",
    "\n",
    "plt.show()"
   ]
  },
  {
   "cell_type": "code",
   "execution_count": 181,
   "metadata": {},
   "outputs": [
    {
     "name": "stderr",
     "output_type": "stream",
     "text": [
      "C:\\Users\\Rishabb\\Anaconda3\\lib\\site-packages\\pandas\\core\\generic.py:5208: SettingWithCopyWarning: \n",
      "A value is trying to be set on a copy of a slice from a DataFrame.\n",
      "Try using .loc[row_indexer,col_indexer] = value instead\n",
      "\n",
      "See the caveats in the documentation: http://pandas.pydata.org/pandas-docs/stable/user_guide/indexing.html#returning-a-view-versus-a-copy\n",
      "  self[name] = value\n"
     ]
    },
    {
     "name": "stdout",
     "output_type": "stream",
     "text": [
      "The hit ratio is: 0.5682\n",
      "The conditional expected gain is: 1.1158389327404667\n",
      "Long strategy Returns: 33.58968814474982\n",
      "Short strategy Returns: 8.043350709556314\n",
      "Overall strategy Returns: 1.0226489385315536\n"
     ]
    }
   ],
   "source": [
    "a1,a2,a3,a4,a5 = evaluate_process(predprob)\n",
    "\n",
    "RAF_long_returns.append(a1)\n",
    "RAF_short_returns.append(a2)\n",
    "RAF_overall_returns.append(a3)\n",
    "RAF_hit_ratio.append(a4)\n",
    "RAF_ceg.append(a5)\n",
    "RAF_accuracy.append(raf_clf.score(test_df[column_list],test_df.Conditional))"
   ]
  },
  {
   "cell_type": "markdown",
   "metadata": {},
   "source": [
    "### Dense Neural Network (DNN) Model Run"
   ]
  },
  {
   "cell_type": "code",
   "execution_count": 29,
   "metadata": {},
   "outputs": [],
   "source": [
    "input_dim =  train_df[column_list].shape[1]"
   ]
  },
  {
   "cell_type": "code",
   "execution_count": 30,
   "metadata": {},
   "outputs": [
    {
     "name": "stdout",
     "output_type": "stream",
     "text": [
      "_________________________________________________________________\n",
      "Layer (type)                 Output Shape              Param #   \n",
      "=================================================================\n",
      "inputs (InputLayer)          (None, 31)                0         \n",
      "_________________________________________________________________\n",
      "dropout_1 (Dropout)          (None, 31)                0         \n",
      "_________________________________________________________________\n",
      "hidden_1 (Dense)             (None, 31)                992       \n",
      "_________________________________________________________________\n",
      "dropout_2 (Dropout)          (None, 31)                0         \n",
      "_________________________________________________________________\n",
      "hidden_2 (Dense)             (None, 10)                320       \n",
      "_________________________________________________________________\n",
      "dropout_3 (Dropout)          (None, 10)                0         \n",
      "_________________________________________________________________\n",
      "hidden_3 (Dense)             (None, 5)                 55        \n",
      "_________________________________________________________________\n",
      "output (Dense)               (None, 2)                 12        \n",
      "=================================================================\n",
      "Total params: 1,379\n",
      "Trainable params: 1,379\n",
      "Non-trainable params: 0\n",
      "_________________________________________________________________\n"
     ]
    }
   ],
   "source": [
    "hidden = [31,31,10,5] \n",
    "\n",
    "n_classes = 2\n",
    "\n",
    "inputs = Input(shape=(input_dim,), name='inputs')\n",
    "x = Dropout(0.1)(inputs)\n",
    "x = Dense(hidden[1], input_dim=input_dim, activation='relu', name='hidden_1')(x)\n",
    "x = Dropout(0.1)(x)\n",
    "x = Dense(hidden[2], input_dim=input_dim, activation='relu', name='hidden_2')(x)\n",
    "x = Dropout(0.1)(x)\n",
    "x = Dense(hidden[3], input_dim=input_dim, activation='relu', name='hidden_3')(x)\n",
    "outputs = Dense(n_classes, activation='softmax', name='output')(x)\n",
    "\n",
    "nn_model = Model(inputs=inputs, outputs=outputs)\n",
    "nn_model.summary()"
   ]
  },
  {
   "cell_type": "code",
   "execution_count": 185,
   "metadata": {},
   "outputs": [],
   "source": [
    "x_train = to_categorical(train_df.Conditional.values,3)[:,[1,2]]\n",
    "y_train = to_categorical(test_df.Conditional.values,3)[:,[1,2]]"
   ]
  },
  {
   "cell_type": "code",
   "execution_count": 186,
   "metadata": {},
   "outputs": [
    {
     "name": "stdout",
     "output_type": "stream",
     "text": [
      "Epoch 1/10\n",
      "343042/343042 [==============================] - 3s 8us/step - loss: 0.6920 - acc: 0.5177\n",
      "Epoch 2/10\n",
      "343042/343042 [==============================] - 2s 6us/step - loss: 0.6920 - acc: 0.5190\n",
      "Epoch 3/10\n",
      "343042/343042 [==============================] - 2s 6us/step - loss: 0.6921 - acc: 0.5182\n",
      "Epoch 4/10\n",
      "343042/343042 [==============================] - 2s 6us/step - loss: 0.6920 - acc: 0.5196\n",
      "Epoch 5/10\n",
      "343042/343042 [==============================] - 2s 6us/step - loss: 0.6920 - acc: 0.5200\n",
      "Epoch 6/10\n",
      "343042/343042 [==============================] - 2s 6us/step - loss: 0.6919 - acc: 0.5186\n",
      "Epoch 7/10\n",
      "343042/343042 [==============================] - 2s 6us/step - loss: 0.6919 - acc: 0.5196\n",
      "Epoch 8/10\n",
      "343042/343042 [==============================] - 2s 6us/step - loss: 0.6920 - acc: 0.5199A: 1s - loss: 0\n",
      "Epoch 9/10\n",
      "343042/343042 [==============================] - 2s 6us/step - loss: 0.6919 - acc: 0.5197\n",
      "Epoch 10/10\n",
      "343042/343042 [==============================] - 2s 6us/step - loss: 0.6919 - acc: 0.5190\n",
      "5-Layer DNN\n",
      "------------------------\n",
      "Test loss score: 0.6921\n",
      "Test accuracy:   0.5192\n"
     ]
    }
   ],
   "source": [
    "nn_model.compile(optimizer='nadam', loss='categorical_crossentropy', metrics=['accuracy'])\n",
    "\n",
    "\n",
    "batch_size = 1000\n",
    "n_epochs = 10\n",
    "nn_model_hist = nn_model.fit(train_df[column_list], x_train , batch_size=batch_size, epochs=n_epochs, verbose=1)\n",
    "val_score = nn_model.evaluate(test_df[column_list], y_train, verbose=0)\n",
    "\n",
    "print('5-Layer DNN')\n",
    "print('------------------------')\n",
    "print('Test loss score: {0:.4f}'.format(val_score[0]))\n",
    "print('Test accuracy:   {0:.4f}'.format(val_score[1]))"
   ]
  },
  {
   "cell_type": "code",
   "execution_count": 173,
   "metadata": {},
   "outputs": [
    {
     "data": {
      "text/plain": [
       "array([[0.5004082 , 0.49959183],\n",
       "       [0.50007886, 0.49992108],\n",
       "       [0.4989575 , 0.5010424 ],\n",
       "       ...,\n",
       "       [0.50201684, 0.4979832 ],\n",
       "       [0.49607712, 0.5039229 ],\n",
       "       [0.5018612 , 0.49813882]], dtype=float32)"
      ]
     },
     "execution_count": 173,
     "metadata": {},
     "output_type": "execute_result"
    }
   ],
   "source": [
    "nn_model_pred = nn_model.predict(test_df[column_list])\n",
    "nn_model_pred"
   ]
  },
  {
   "cell_type": "code",
   "execution_count": 187,
   "metadata": {},
   "outputs": [
    {
     "name": "stderr",
     "output_type": "stream",
     "text": [
      "C:\\Users\\Rishabb\\Anaconda3\\lib\\site-packages\\pandas\\core\\generic.py:5208: SettingWithCopyWarning: \n",
      "A value is trying to be set on a copy of a slice from a DataFrame.\n",
      "Try using .loc[row_indexer,col_indexer] = value instead\n",
      "\n",
      "See the caveats in the documentation: http://pandas.pydata.org/pandas-docs/stable/user_guide/indexing.html#returning-a-view-versus-a-copy\n",
      "  self[name] = value\n"
     ]
    },
    {
     "name": "stdout",
     "output_type": "stream",
     "text": [
      "The hit ratio is: 0.5512\n",
      "The conditional expected gain is: 1.109125003938074\n",
      "Long strategy Returns: 1.5047593870895373\n",
      "Short strategy Returns: 0.4845143007412088\n",
      "Overall strategy Returns: 0.9987368970993886\n"
     ]
    }
   ],
   "source": [
    "a1,a2,a3,a4,a5 = evaluate_process(nn_model_pred)\n",
    "\n",
    "DNN_long_returns.append(a1)\n",
    "DNN_short_returns.append(a2)\n",
    "DNN_overall_returns.append(a3)\n",
    "DNN_hit_ratio.append(a4)\n",
    "DNN_ceg.append(a5)\n",
    "DNN_accuracy.append(val_score[1])"
   ]
  },
  {
   "cell_type": "markdown",
   "metadata": {},
   "source": [
    "### Gradient - Boosted Trees Model Run"
   ]
  },
  {
   "cell_type": "code",
   "execution_count": 42,
   "metadata": {},
   "outputs": [],
   "source": [
    "gbm_clf = GradientBoostingClassifier(n_estimators=100, learning_rate=0.1, max_depth=3, max_features=15, random_state=1)"
   ]
  },
  {
   "cell_type": "code",
   "execution_count": 43,
   "metadata": {},
   "outputs": [
    {
     "data": {
      "text/plain": [
       "GradientBoostingClassifier(criterion='friedman_mse', init=None,\n",
       "              learning_rate=0.1, loss='deviance', max_depth=3,\n",
       "              max_features=15, max_leaf_nodes=None,\n",
       "              min_impurity_decrease=0.0, min_impurity_split=None,\n",
       "              min_samples_leaf=1, min_samples_split=2,\n",
       "              min_weight_fraction_leaf=0.0, n_estimators=100,\n",
       "              presort='auto', random_state=1, subsample=1.0, verbose=0,\n",
       "              warm_start=False)"
      ]
     },
     "execution_count": 43,
     "metadata": {},
     "output_type": "execute_result"
    }
   ],
   "source": [
    "gbm_clf.fit(train_df[column_list],train_df[\"Conditional\"])"
   ]
  },
  {
   "cell_type": "code",
   "execution_count": 45,
   "metadata": {},
   "outputs": [],
   "source": [
    "predictions = gbm_clf.predict(test_df[column_list])\n",
    "conf_mat = confusion_matrix(test_df[\"Conditional\"], predictions, labels=[1, 2])"
   ]
  },
  {
   "cell_type": "code",
   "execution_count": 46,
   "metadata": {},
   "outputs": [
    {
     "data": {
      "text/plain": [
       "array([[0.57352102, 0.42647898],\n",
       "       [0.53589435, 0.46410565]])"
      ]
     },
     "execution_count": 46,
     "metadata": {},
     "output_type": "execute_result"
    }
   ],
   "source": [
    "(conf_mat.T/conf_mat.sum(axis=1)).T"
   ]
  },
  {
   "cell_type": "code",
   "execution_count": 48,
   "metadata": {},
   "outputs": [],
   "source": [
    "class_report = classification_report(test_df[\"Conditional\"], predictions)"
   ]
  },
  {
   "cell_type": "code",
   "execution_count": 49,
   "metadata": {},
   "outputs": [
    {
     "name": "stdout",
     "output_type": "stream",
     "text": [
      "             precision    recall  f1-score   support\n",
      "\n",
      "          1       0.52      0.57      0.54     59602\n",
      "          2       0.52      0.46      0.49     59898\n",
      "\n",
      "avg / total       0.52      0.52      0.52    119500\n",
      "\n"
     ]
    }
   ],
   "source": [
    "print(class_report)"
   ]
  },
  {
   "cell_type": "code",
   "execution_count": 65,
   "metadata": {},
   "outputs": [],
   "source": [
    "predprob = gbm_clf.predict_proba(test_df[column_list])"
   ]
  },
  {
   "cell_type": "code",
   "execution_count": 222,
   "metadata": {},
   "outputs": [
    {
     "data": {
      "image/png": "[encoded data removed]",
      "text/plain": [
       "<Figure size 504x576 with 1 Axes>"
      ]
     },
     "metadata": {},
     "output_type": "display_data"
    }
   ],
   "source": [
    "features = column_list\n",
    "importances = gbm_clf.feature_importances_\n",
    "indices = np.argsort(importances)\n",
    "\n",
    "%matplotlib inline\n",
    "\n",
    "plt.figure(figsize=(7,8))\n",
    "plt.title('Feature Importances')\n",
    "plt.barh(range(len(indices)), importances[indices], color='b', align='center')\n",
    "plt.yticks(range(len(indices)), [features[i] for i in indices])\n",
    "plt.xlabel('Relative Importance')\n",
    "plt.show()"
   ]
  },
  {
   "cell_type": "code",
   "execution_count": 190,
   "metadata": {},
   "outputs": [
    {
     "name": "stderr",
     "output_type": "stream",
     "text": [
      "C:\\Users\\Rishabb\\Anaconda3\\lib\\site-packages\\pandas\\core\\generic.py:5208: SettingWithCopyWarning: \n",
      "A value is trying to be set on a copy of a slice from a DataFrame.\n",
      "Try using .loc[row_indexer,col_indexer] = value instead\n",
      "\n",
      "See the caveats in the documentation: http://pandas.pydata.org/pandas-docs/stable/user_guide/indexing.html#returning-a-view-versus-a-copy\n",
      "  self[name] = value\n"
     ]
    },
    {
     "name": "stdout",
     "output_type": "stream",
     "text": [
      "The hit ratio is: 0.5682\n",
      "The conditional expected gain is: 1.1158389327404667\n",
      "Long strategy Returns: 33.58968814474982\n",
      "Short strategy Returns: 8.043350709556314\n",
      "Overall strategy Returns: 1.0226489385315536\n"
     ]
    }
   ],
   "source": [
    "a1,a2,a3,a4,a5 = evaluate_process(predprob)\n",
    "\n",
    "GBT_long_returns.append(a1)\n",
    "GBT_short_returns.append(a2)\n",
    "GBT_overall_returns.append(a3)\n",
    "GBT_hit_ratio.append(a4)\n",
    "GBT_ceg.append(a5)\n",
    "GBT_accuracy.append(gbm_clf.score(test_df[column_list],test_df.Conditional))"
   ]
  },
  {
   "cell_type": "markdown",
   "metadata": {},
   "source": [
    "### Equally weighted Ensemble of Random Forests and Gradient-Boosted Trees Model Run"
   ]
  },
  {
   "cell_type": "code",
   "execution_count": 51,
   "metadata": {},
   "outputs": [],
   "source": [
    "eclf = VotingClassifier(estimators=[('rf', raf_clf), ('gbc', gbm_clf)], voting='soft', weights=[1,1])"
   ]
  },
  {
   "cell_type": "code",
   "execution_count": 52,
   "metadata": {},
   "outputs": [
    {
     "data": {
      "text/plain": [
       "VotingClassifier(estimators=[('rf', RandomForestClassifier(bootstrap=True, class_weight=None, criterion='gini',\n",
       "            max_depth=5, max_features='auto', max_leaf_nodes=None,\n",
       "            min_impurity_decrease=0.0, min_impurity_split=None,\n",
       "            min_samples_leaf=1, min_samples_split=2,\n",
       "            min_weigh...         presort='auto', random_state=1, subsample=1.0, verbose=0,\n",
       "              warm_start=False))],\n",
       "         flatten_transform=None, n_jobs=1, voting='soft', weights=[1, 1])"
      ]
     },
     "execution_count": 52,
     "metadata": {},
     "output_type": "execute_result"
    }
   ],
   "source": [
    "eclf.fit(train_df[column_list],train_df[\"Conditional\"])"
   ]
  },
  {
   "cell_type": "code",
   "execution_count": 54,
   "metadata": {},
   "outputs": [
    {
     "name": "stderr",
     "output_type": "stream",
     "text": [
      "C:\\Users\\Rishabb\\Anaconda3\\lib\\site-packages\\sklearn\\preprocessing\\label.py:151: DeprecationWarning: The truth value of an empty array is ambiguous. Returning False, but in future this will result in an error. Use `array.size > 0` to check that an array is not empty.\n",
      "  if diff:\n"
     ]
    },
    {
     "name": "stdout",
     "output_type": "stream",
     "text": [
      "[[0.57813496 0.42186504]\n",
      " [0.53728004 0.46271996]]\n",
      "             precision    recall  f1-score   support\n",
      "\n",
      "          1       0.52      0.58      0.55     59602\n",
      "          2       0.52      0.46      0.49     59898\n",
      "\n",
      "avg / total       0.52      0.52      0.52    119500\n",
      "\n"
     ]
    }
   ],
   "source": [
    "y_pred = eclf.predict(test_df[column_list])\n",
    "conf_mat = confusion_matrix(test_df[\"Conditional\"], y_pred, labels=[1, 2])\n",
    "print((conf_mat.T/conf_mat.sum(axis=1)).T)\n",
    "class_report = classification_report(test_df[\"Conditional\"], y_pred)\n",
    "print(class_report)"
   ]
  },
  {
   "cell_type": "code",
   "execution_count": 67,
   "metadata": {},
   "outputs": [],
   "source": [
    "predprob = eclf.predict_proba(test_df[column_list])"
   ]
  },
  {
   "cell_type": "code",
   "execution_count": 194,
   "metadata": {},
   "outputs": [
    {
     "name": "stderr",
     "output_type": "stream",
     "text": [
      "C:\\Users\\Rishabb\\Anaconda3\\lib\\site-packages\\pandas\\core\\generic.py:5208: SettingWithCopyWarning: \n",
      "A value is trying to be set on a copy of a slice from a DataFrame.\n",
      "Try using .loc[row_indexer,col_indexer] = value instead\n",
      "\n",
      "See the caveats in the documentation: http://pandas.pydata.org/pandas-docs/stable/user_guide/indexing.html#returning-a-view-versus-a-copy\n",
      "  self[name] = value\n"
     ]
    },
    {
     "name": "stdout",
     "output_type": "stream",
     "text": [
      "The hit ratio is: 0.5682\n",
      "The conditional expected gain is: 1.1158389327404667\n",
      "Long strategy Returns: 33.58968814474982\n",
      "Short strategy Returns: 8.043350709556314\n",
      "Overall strategy Returns: 1.0226489385315536\n"
     ]
    },
    {
     "name": "stderr",
     "output_type": "stream",
     "text": [
      "C:\\Users\\Rishabb\\Anaconda3\\lib\\site-packages\\sklearn\\preprocessing\\label.py:151: DeprecationWarning: The truth value of an empty array is ambiguous. Returning False, but in future this will result in an error. Use `array.size > 0` to check that an array is not empty.\n",
      "  if diff:\n"
     ]
    }
   ],
   "source": [
    "a1,a2,a3,a4,a5 = evaluate_process(predprob)\n",
    "\n",
    "ENS_long_returns.append(a1)\n",
    "ENS_short_returns.append(a2)\n",
    "ENS_overall_returns.append(a3)\n",
    "ENS_hit_ratio.append(a4)\n",
    "ENS_ceg.append(a5)\n",
    "ENS_accuracy.append(eclf.score(test_df[column_list],test_df.Conditional))"
   ]
  },
  {
   "cell_type": "markdown",
   "metadata": {},
   "source": [
    "## Running the strategy over more Training periods"
   ]
  },
  {
   "cell_type": "code",
   "execution_count": null,
   "metadata": {},
   "outputs": [],
   "source": [
    "for i in range(1,10):\n",
    "    train_df = preparation_train_df(train_list[i])\n",
    "    test_df = preparation_test_df(test_list[i])\n",
    "\n",
    "    ### Random Forest Run\n",
    "    raf_clf.fit(train_df[column_list],train_df[\"Conditional\"])\n",
    "    predprob = raf_clf.predict_proba(test_df[column_list])\n",
    "    a1,a2,a3,a4,a5 = evaluate_process(predprob)\n",
    "\n",
    "    RAF_long_returns.append(a1)\n",
    "    RAF_short_returns.append(a2)\n",
    "    RAF_overall_returns.append(a3)\n",
    "    RAF_hit_ratio.append(a4)\n",
    "    RAF_ceg.append(a5)\n",
    "    RAF_accuracy.append(raf_clf.score(test_df[column_list],test_df.Conditional))\n",
    "\n",
    "    ### Dense Neural Network (DNN) Model Run\n",
    "\n",
    "    x_train = to_categorical(train_df.Conditional.values,3)[:,[1,2]]\n",
    "    y_train = to_categorical(test_df.Conditional.values,3)[:,[1,2]]\n",
    "\n",
    "    nn_model.compile(optimizer='nadam', loss='categorical_crossentropy', metrics=['accuracy'])\n",
    "    nn_model_hist = nn_model.fit(train_df[column_list], x_train , batch_size=batch_size, epochs=n_epochs, verbose=0)\n",
    "    val_score = nn_model.evaluate(test_df[column_list], y_train, verbose=0)\n",
    "    nn_model_pred = nn_model.predict(test_df[column_list])\n",
    "\n",
    "    a1,a2,a3,a4,a5 = evaluate_process(nn_model_pred)\n",
    "\n",
    "    DNN_long_returns.append(a1)\n",
    "    DNN_short_returns.append(a2)\n",
    "    DNN_overall_returns.append(a3)\n",
    "    DNN_hit_ratio.append(a4)\n",
    "    DNN_ceg.append(a5)\n",
    "    DNN_accuracy.append(val_score[1])\n",
    "\n",
    "    ### Gradient - Boosted Trees Model Run\n",
    "\n",
    "    gbm_clf.fit(train_df[column_list],train_df[\"Conditional\"])\n",
    "    predprob = gbm_clf.predict_proba(test_df[column_list])\n",
    "\n",
    "    a1,a2,a3,a4,a5 = evaluate_process(predprob)\n",
    "\n",
    "    GBT_long_returns.append(a1)\n",
    "    GBT_short_returns.append(a2)\n",
    "    GBT_overall_returns.append(a3)\n",
    "    GBT_hit_ratio.append(a4)\n",
    "    GBT_ceg.append(a5)\n",
    "    GBT_accuracy.append(gbm_clf.score(test_df[column_list],test_df.Conditional))\n",
    "\n",
    "    ### Equally weighted Ensemble of Random Forests and Gradient-Boosted Trees Model Run\n",
    "\n",
    "    eclf = VotingClassifier(estimators=[('rf', classifier_1), ('gbc', gbm_clf)], voting='soft', weights=[1,1])\n",
    "    eclf.fit(train_df[column_list],train_df[\"Conditional\"])\n",
    "    predprob = eclf.predict_proba(test_df[column_list])\n",
    "\n",
    "    a1,a2,a3,a4,a5 = evaluate_process(predprob)\n",
    "\n",
    "    ENS_long_returns.append(a1)\n",
    "    ENS_short_returns.append(a2)\n",
    "    ENS_overall_returns.append(a3)\n",
    "    ENS_hit_ratio.append(a4)\n",
    "    ENS_ceg.append(a5)\n",
    "    ENS_accuracy.append(eclf.score(test_df[column_list],test_df.Conditional))"
   ]
  },
  {
   "cell_type": "code",
   "execution_count": null,
   "metadata": {},
   "outputs": [],
   "source": []
  }
 ],
 "metadata": {
  "kernelspec": {
   "display_name": "Python 3",
   "language": "python",
   "name": "python3"
  },
  "language_info": {
   "codemirror_mode": {
    "name": "ipython",
    "version": 3
   },
   "file_extension": ".py",
   "mimetype": "text/x-python",
   "name": "python",
   "nbconvert_exporter": "python",
   "pygments_lexer": "ipython3",
   "version": "3.6.5"
  }
 },
 "nbformat": 4,
 "nbformat_minor": 2
}
